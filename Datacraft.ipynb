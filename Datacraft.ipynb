{
  "cells": [
    {
      "cell_type": "markdown",
      "metadata": {
        "id": "view-in-github",
        "colab_type": "text"
      },
      "source": [
        "<a href=\"https://colab.research.google.com/github/ularpose27/data_science_from_scratch/blob/main/Datacraft.ipynb\" target=\"_parent\"><img src=\"https://colab.research.google.com/assets/colab-badge.svg\" alt=\"Open In Colab\"/></a>"
      ]
    },
    {
      "cell_type": "code",
      "execution_count": 131,
      "metadata": {
        "id": "61kljjz4kbwy"
      },
      "outputs": [],
      "source": [
        "import requests\n",
        "import pandas as pd\n",
        "import json\n",
        "import math\n",
        "#import connection\n",
        "\n",
        "#global variables\n",
        "global page_no\n",
        "global page_size\n",
        "global searchreq \n",
        "\n",
        "url = 'https://scanr-api.enseignementsup-recherche.gouv.fr/api/v2/publications/search'"
      ]
    },
    {
      "cell_type": "code",
      "execution_count": 132,
      "metadata": {
        "id": "-s2Sy_p_kziE"
      },
      "outputs": [],
      "source": [
        "#initializing the global variables to default values to check for total items\n",
        "page_no = 0\n",
        "page_size = 1\n",
        "fields_list = [\"id\",\"summary\",\"title\",\"submissionDate\",\"authors\",\"publicationDate\",\"productionType\",\"keywords\"]\n",
        "search_fields = [\"summary\",\"title\"]\n",
        "query_string = \"\""
      ]
    },
    {
      "cell_type": "code",
      "execution_count": 133,
      "metadata": {
        "id": "Z0jmjtaGk2s7"
      },
      "outputs": [],
      "source": [
        "searchreq = {\"lang\":\"en\",\"searchFields\":search_fields,\"query\":query_string,\"page\":page_no,\"pageSize\":page_size,\"sourceFields\":fields_list}"
      ]
    },
    {
      "cell_type": "code",
      "execution_count": 134,
      "metadata": {
        "colab": {
          "base_uri": "https://localhost:8080/"
        },
        "id": "QmzYA4XdsiuK",
        "outputId": "279fdf00-203b-4391-a65d-b24c6a992e2d"
      },
      "outputs": [
        {
          "output_type": "execute_result",
          "data": {
            "text/plain": [
              "{'lang': 'en',\n",
              " 'searchFields': ['summary', 'title'],\n",
              " 'query': '',\n",
              " 'page': 0,\n",
              " 'pageSize': 1,\n",
              " 'sourceFields': ['id',\n",
              "  'summary',\n",
              "  'title',\n",
              "  'submissionDate',\n",
              "  'authors',\n",
              "  'publicationDate',\n",
              "  'productionType',\n",
              "  'keywords']}"
            ]
          },
          "metadata": {},
          "execution_count": 134
        }
      ],
      "source": [
        "searchreq"
      ]
    },
    {
      "cell_type": "code",
      "execution_count": 135,
      "metadata": {
        "id": "NrnlMKumk52K"
      },
      "outputs": [],
      "source": [
        "#requesting the API for the data using the search request parameter to calculate no.of loops required\n",
        "payload = requests.post(url, json=searchreq)\n",
        "json_pl = payload.json()\n",
        "iter = math.ceil(json_pl.get('total')/len(json_pl.get('results'))) \n",
        "#It retrieves the value associated with the key 'total' in a JSON object called json_pl using the get() method.\n",
        "#It divides the value retrieved in step 1 by the length of the list associated with the key 'results' in the same JSON object using the len() function.\n",
        "#It then uses the math.ceil() function to round up the result of the division operation to the nearest integer, which is then assigned to a variable called iter.\n",
        "#In summary, this line of code calculates the number of iterations needed to process all the items in a paginated JSON response by dividing the total number of items by the number of items in each page, rounding up the result to the nearest integer, and assigning it to a variable called iter. The math.ceil() function is used to ensure that the calculation results in a whole number, as iteration numbers cannot be fractional."
      ]
    },
    {
      "cell_type": "code",
      "execution_count": 136,
      "metadata": {
        "colab": {
          "base_uri": "https://localhost:8080/"
        },
        "id": "cEpPN0KJsrGR",
        "outputId": "faf394d1-a15b-4cb8-97f1-c857f343ff45"
      },
      "outputs": [
        {
          "output_type": "execute_result",
          "data": {
            "text/plain": [
              "{'request': {'query': '',\n",
              "  'page': 0,\n",
              "  'pageSize': 1,\n",
              "  'lang': 'en',\n",
              "  'searchFields': ['summary', 'title'],\n",
              "  'filters': {},\n",
              "  'sourceFields': ['id',\n",
              "   'summary',\n",
              "   'title',\n",
              "   'submissionDate',\n",
              "   'authors',\n",
              "   'publicationDate',\n",
              "   'productionType',\n",
              "   'keywords'],\n",
              "  'aggregations': {}},\n",
              " 'total': 3079381,\n",
              " 'results': [{'value': {'id': '55299654',\n",
              "    'productionType': 'patent',\n",
              "    'title': {'default': '',\n",
              "     'en': 'SELF-CONTAINED ELECTRICAL DEVICE WITH DELAYED CONTROL',\n",
              "     'fr': 'DISPOSITIF ELECTRIQUE AUTONOME A CONTROLE DIFFERE'},\n",
              "    'authors': [{'fullName': 'De Renty Kilien',\n",
              "      'rolePatent': [{'role': 'inv', 'description': 'inv'}],\n",
              "      'typeParticipant': 'pp',\n",
              "      'country': 'FR'},\n",
              "     {'fullName': 'Upowa',\n",
              "      'rolePatent': [{'role': 'dep', 'description': 'dep'}],\n",
              "      'typeParticipant': 'pm',\n",
              "      'country': 'FR',\n",
              "      'affiliations': [{'structure': '807493259'}]},\n",
              "     {'fullName': 'Viaut Jean-Pierre',\n",
              "      'rolePatent': [{'role': 'inv', 'description': 'inv'}],\n",
              "      'typeParticipant': 'pp',\n",
              "      'country': 'FR'}],\n",
              "    'isOa': False,\n",
              "    'publicationDate': 1493942400000,\n",
              "    'summary': {'default': '',\n",
              "     'en': 'The invention relates mainly to a self-contained electrical device (1) likely to be installed in a geographical area that is not covered by a telecommunications network (RT), said device (1) including a communication interface (8b) intended for communicating with an external terminal (20), said communication interface (8b) being suitable for transmitting operating information stored in a database (5) to the external terminal (20), and for receiving updated operating information (5a) and/or information for conditional activation of the device (1) from the external terminal (20), said information being sent in a delayed manner by a remote server via a telecommunications network.',\n",
              "     'fr': \"L'invention se rapport principalement à un dispositif électrique (1) autonome susceptible d'être installé dans une zone géographique non couverte par un réseau de télécommunication (RT), ledit dispositif (1) comprenant une interface de communication (8b) destinée à communiquer avec un terminal externe (20), ladite interface de communication (8b) étant adaptée pour transmettre au terminal externe (20) des informations de fonctionnement stockées dans une base de données (5), et recevoir du terminal externe (20) une mise à jour d'informations de fonctionnement (5a) et/ou d'activation conditionnelle du dispositif (1), ces informations étant communiquées de manière différée par un serveur à distance via un réseau de télécommunication.\"},\n",
              "    'submissionDate': 1446508800000}}],\n",
              " 'facets': [{'id': 'facet_publication_date',\n",
              "   'entries': [{'value': '2013-01-01T00:00:00.000Z',\n",
              "     'count': 90631,\n",
              "     'subFacets': []},\n",
              "    {'value': '2014-01-01T00:00:00.000Z', 'count': 84006, 'subFacets': []},\n",
              "    {'value': '2015-01-01T00:00:00.000Z', 'count': 81901, 'subFacets': []},\n",
              "    {'value': '2016-01-01T00:00:00.000Z', 'count': 81859, 'subFacets': []},\n",
              "    {'value': '2017-01-01T00:00:00.000Z', 'count': 75415, 'subFacets': []},\n",
              "    {'value': '2018-01-01T00:00:00.000Z', 'count': 73373, 'subFacets': []},\n",
              "    {'value': '2019-01-01T00:00:00.000Z', 'count': 65285, 'subFacets': []},\n",
              "    {'value': '2020-01-01T00:00:00.000Z', 'count': 53058, 'subFacets': []},\n",
              "    {'value': '2021-01-01T00:00:00.000Z', 'count': 35893, 'subFacets': []},\n",
              "    {'value': '1994-01-01T00:00:00.000Z', 'count': 13871, 'subFacets': []},\n",
              "    {'value': '1993-01-01T00:00:00.000Z', 'count': 13066, 'subFacets': []},\n",
              "    {'value': '1992-01-01T00:00:00.000Z', 'count': 12741, 'subFacets': []},\n",
              "    {'value': '1997-01-01T00:00:00.000Z', 'count': 12391, 'subFacets': []},\n",
              "    {'value': '1996-01-01T00:00:00.000Z', 'count': 12056, 'subFacets': []},\n",
              "    {'value': '2007-01-01T00:00:00.000Z', 'count': 11866, 'subFacets': []},\n",
              "    {'value': '1998-01-01T00:00:00.000Z', 'count': 11653, 'subFacets': []},\n",
              "    {'value': '1999-01-01T00:00:00.000Z', 'count': 11609, 'subFacets': []},\n",
              "    {'value': '1990-01-01T00:00:00.000Z', 'count': 11576, 'subFacets': []},\n",
              "    {'value': '2006-01-01T00:00:00.000Z', 'count': 11573, 'subFacets': []},\n",
              "    {'value': '2000-01-01T00:00:00.000Z', 'count': 11535, 'subFacets': []}]},\n",
              "  {'id': 'facet_is_oa',\n",
              "   'entries': [{'value': 'false', 'count': 1789628, 'subFacets': []},\n",
              "    {'value': 'true', 'count': 1289753, 'subFacets': []}]},\n",
              "  {'id': 'facet_source_publisher',\n",
              "   'entries': [{'value': 'Elsevier BV', 'count': 324119, 'subFacets': []},\n",
              "    {'value': 'Springer Science and Business Media LLC',\n",
              "     'count': 114625,\n",
              "     'subFacets': []},\n",
              "    {'value': 'Wiley', 'count': 86296, 'subFacets': []},\n",
              "    {'value': 'OpenEdition', 'count': 61389, 'subFacets': []},\n",
              "    {'value': 'IEEE', 'count': 48708, 'subFacets': []},\n",
              "    {'value': 'CAIRN', 'count': 48638, 'subFacets': []},\n",
              "    {'value': 'Organisation for Economic Co-Operation and Development (OECD)',\n",
              "     'count': 46864,\n",
              "     'subFacets': []},\n",
              "    {'value': 'Springer International Publishing',\n",
              "     'count': 38656,\n",
              "     'subFacets': []},\n",
              "    {'value': 'Oxford University Press (OUP)',\n",
              "     'count': 31618,\n",
              "     'subFacets': []},\n",
              "    {'value': 'Informa UK Limited', 'count': 31432, 'subFacets': []},\n",
              "    {'value': 'Dalloz', 'count': 25414, 'subFacets': []},\n",
              "    {'value': 'OECD', 'count': 23488, 'subFacets': []},\n",
              "    {'value': 'MDPI AG', 'count': 22411, 'subFacets': []},\n",
              "    {'value': 'EDP Sciences', 'count': 21916, 'subFacets': []},\n",
              "    {'value': 'Elsevier', 'count': 21434, 'subFacets': []},\n",
              "    {'value': 'American Chemical Society (ACS)',\n",
              "     'count': 21374,\n",
              "     'subFacets': []},\n",
              "    {'value': 'American Physical Society (APS)',\n",
              "     'count': 17673,\n",
              "     'subFacets': []},\n",
              "    {'value': 'IOP Publishing', 'count': 15344, 'subFacets': []},\n",
              "    {'value': 'Institute of Electrical and Electronics Engineers (IEEE)',\n",
              "     'count': 15344,\n",
              "     'subFacets': []},\n",
              "    {'value': 'Ovid Technologies (Wolters Kluwer Health)',\n",
              "     'count': 15336,\n",
              "     'subFacets': []}]},\n",
              "  {'id': 'facet_publication_types',\n",
              "   'entries': [{'value': 'journal-article', 'count': 1345686, 'subFacets': []},\n",
              "    {'value': 'these', 'count': 511798, 'subFacets': []},\n",
              "    {'value': 'proceedings-article', 'count': 382196, 'subFacets': []},\n",
              "    {'value': 'book-chapter', 'count': 248519, 'subFacets': []},\n",
              "    {'value': 'book', 'count': 118928, 'subFacets': []},\n",
              "    {'value': 'other', 'count': 107321, 'subFacets': []},\n",
              "    {'value': 'component', 'count': 49198, 'subFacets': []},\n",
              "    {'value': 'mem', 'count': 42539, 'subFacets': []},\n",
              "    {'value': 'poster', 'count': 31335, 'subFacets': []},\n",
              "    {'value': 'report', 'count': 20960, 'subFacets': []},\n",
              "    {'value': 'posted-content', 'count': 19394, 'subFacets': []},\n",
              "    {'value': 'dataset', 'count': 7714, 'subFacets': []},\n",
              "    {'value': 'hdr', 'count': 5720, 'subFacets': []},\n",
              "    {'value': 'monograph', 'count': 2943, 'subFacets': []},\n",
              "    {'value': 'img', 'count': 2607, 'subFacets': []},\n",
              "    {'value': 'patent', 'count': 2487, 'subFacets': []},\n",
              "    {'value': 'reference-entry', 'count': 2086, 'subFacets': []},\n",
              "    {'value': 'video', 'count': 1969, 'subFacets': []},\n",
              "    {'value': 'report-series', 'count': 1954, 'subFacets': []},\n",
              "    {'value': 'lecture', 'count': 1537, 'subFacets': []}]},\n",
              "  {'id': 'facet_submission_date',\n",
              "   'entries': [{'value': '2018-12-21T00:00:00.000Z',\n",
              "     'count': 421,\n",
              "     'subFacets': []},\n",
              "    {'value': '2017-12-22T00:00:00.000Z', 'count': 349, 'subFacets': []},\n",
              "    {'value': '2012-12-21T00:00:00.000Z', 'count': 321, 'subFacets': []},\n",
              "    {'value': '2013-12-20T00:00:00.000Z', 'count': 315, 'subFacets': []},\n",
              "    {'value': '2018-12-20T00:00:00.000Z', 'count': 293, 'subFacets': []},\n",
              "    {'value': '2017-12-21T00:00:00.000Z', 'count': 290, 'subFacets': []},\n",
              "    {'value': '2014-12-19T00:00:00.000Z', 'count': 261, 'subFacets': []},\n",
              "    {'value': '2016-12-22T00:00:00.000Z', 'count': 251, 'subFacets': []},\n",
              "    {'value': '2013-12-19T00:00:00.000Z', 'count': 233, 'subFacets': []},\n",
              "    {'value': '2018-12-19T00:00:00.000Z', 'count': 229, 'subFacets': []},\n",
              "    {'value': '2014-12-18T00:00:00.000Z', 'count': 224, 'subFacets': []},\n",
              "    {'value': '2017-06-30T00:00:00.000Z', 'count': 222, 'subFacets': []},\n",
              "    {'value': '2012-12-20T00:00:00.000Z', 'count': 214, 'subFacets': []},\n",
              "    {'value': '2011-03-31T00:00:00.000Z', 'count': 211, 'subFacets': []},\n",
              "    {'value': '2011-09-30T00:00:00.000Z', 'count': 211, 'subFacets': []},\n",
              "    {'value': '2015-12-18T00:00:00.000Z', 'count': 211, 'subFacets': []},\n",
              "    {'value': '2011-12-20T00:00:00.000Z', 'count': 207, 'subFacets': []},\n",
              "    {'value': '2010-12-23T00:00:00.000Z', 'count': 203, 'subFacets': []},\n",
              "    {'value': '2013-06-28T00:00:00.000Z', 'count': 203, 'subFacets': []},\n",
              "    {'value': '2010-12-21T00:00:00.000Z', 'count': 199, 'subFacets': []}]},\n",
              "  {'id': 'facet_production_types',\n",
              "   'entries': [{'value': 'publication', 'count': 2400442, 'subFacets': []},\n",
              "    {'value': 'thesis', 'count': 511798, 'subFacets': []},\n",
              "    {'value': 'patent', 'count': 167141, 'subFacets': []}]},\n",
              "  {'id': 'facet_affiliation_structure_label',\n",
              "   'entries': [{'value': 'French Institute for Research in Computer Science and Automation',\n",
              "     'count': 277921,\n",
              "     'subFacets': []},\n",
              "    {'value': 'French National Centre for Scientific Research',\n",
              "     'count': 229609,\n",
              "     'subFacets': []},\n",
              "    {'value': 'Atomic Energy and Alternative Energies Commission',\n",
              "     'count': 55756,\n",
              "     'subFacets': []},\n",
              "    {'value': 'Aix-Marseille University', 'count': 42271, 'subFacets': []},\n",
              "    {'value': 'Grenoble Alpes University', 'count': 40973, 'subFacets': []},\n",
              "    {'value': 'Claude Bernard University Lyon 1',\n",
              "     'count': 34681,\n",
              "     'subFacets': []},\n",
              "    {'value': 'Paris Diderot University', 'count': 31395, 'subFacets': []},\n",
              "    {'value': 'University of Rennes 1', 'count': 29080, 'subFacets': []},\n",
              "    {'value': 'University of Montpellier', 'count': 28015, 'subFacets': []},\n",
              "    {'value': 'Paul Sabatier University', 'count': 27896, 'subFacets': []},\n",
              "    {'value': 'University of Lorraine', 'count': 27818, 'subFacets': []},\n",
              "    {'value': 'University of Paris-Sud', 'count': 20160, 'subFacets': []},\n",
              "    {'value': 'Pantheon-Sorbonne University', 'count': 19944, 'subFacets': []},\n",
              "    {'value': 'University of Nantes', 'count': 19905, 'subFacets': []},\n",
              "    {'value': 'Paris Descartes University', 'count': 19757, 'subFacets': []},\n",
              "    {'value': 'French Institute of Health and Medical Research',\n",
              "     'count': 17932,\n",
              "     'subFacets': []},\n",
              "    {'value': 'University of Strasbourg', 'count': 17358, 'subFacets': []},\n",
              "    {'value': 'University of Nice Sophia Antipolis',\n",
              "     'count': 16793,\n",
              "     'subFacets': []},\n",
              "    {'value': 'University of Burgundy', 'count': 12960, 'subFacets': []},\n",
              "    {'value': 'Université de Franche-Comté',\n",
              "     'count': 12189,\n",
              "     'subFacets': []}]},\n",
              "  {'id': 'facet_source_title',\n",
              "   'entries': [{'value': 'Lecture Notes in Computer Science',\n",
              "     'count': 9796,\n",
              "     'subFacets': []},\n",
              "    {'value': 'Scientific Reports', 'count': 8872, 'subFacets': []},\n",
              "    {'value': 'PLOS ONE', 'count': 6566, 'subFacets': []},\n",
              "    {'value': 'Astronomy & Astrophysics', 'count': 5674, 'subFacets': []},\n",
              "    {'value': 'Annales de Dermatologie et de Vénéréologie',\n",
              "     'count': 5619,\n",
              "     'subFacets': []},\n",
              "    {'value': 'Journal of Clinical Oncology', 'count': 5435, 'subFacets': []},\n",
              "    {'value': 'SSRN Electronic Journal', 'count': 4741, 'subFacets': []},\n",
              "    {'value': 'Physical Review B', 'count': 4558, 'subFacets': []},\n",
              "    {'value': 'Faculty Opinions – Post-Publication Peer Review of the Biomedical Literature',\n",
              "     'count': 4367,\n",
              "     'subFacets': []},\n",
              "    {'value': 'Nature Communications', 'count': 4347, 'subFacets': []},\n",
              "    {'value': 'Blood', 'count': 4339, 'subFacets': []},\n",
              "    {'value': 'PLoS ONE', 'count': 4334, 'subFacets': []},\n",
              "    {'value': 'Monthly Notices of the Royal Astronomical Society',\n",
              "     'count': 4122,\n",
              "     'subFacets': []},\n",
              "    {'value': 'Physical Review Letters', 'count': 4120, 'subFacets': []},\n",
              "    {'value': 'Recueil Dalloz', 'count': 3354, 'subFacets': []},\n",
              "    {'value': 'La Revue de Médecine Interne', 'count': 3238, 'subFacets': []},\n",
              "    {'value': 'The Astrophysical Journal', 'count': 3235, 'subFacets': []},\n",
              "    {'value': 'Progrès en Urologie', 'count': 3021, 'subFacets': []},\n",
              "    {'value': 'Archives of Cardiovascular Diseases Supplements',\n",
              "     'count': 2810,\n",
              "     'subFacets': []},\n",
              "    {'value': 'Journal of Physics: Conference Series',\n",
              "     'count': 2660,\n",
              "     'subFacets': []}]},\n",
              "  {'id': 'facet_affiliation_structure_id',\n",
              "   'entries': [{'value': '180089047', 'count': 277921, 'subFacets': []},\n",
              "    {'value': '180089013', 'count': 229609, 'subFacets': []},\n",
              "    {'value': '775685019', 'count': 55756, 'subFacets': []},\n",
              "    {'value': '130015332', 'count': 42271, 'subFacets': []},\n",
              "    {'value': '130021397', 'count': 40973, 'subFacets': []},\n",
              "    {'value': '130023385', 'count': 40808, 'subFacets': []},\n",
              "    {'value': '196917744', 'count': 34681, 'subFacets': []},\n",
              "    {'value': '130021363', 'count': 32491, 'subFacets': []},\n",
              "    {'value': '197517238', 'count': 31395, 'subFacets': []},\n",
              "    {'value': '193509361', 'count': 29080, 'subFacets': []},\n",
              "    {'value': '130020548', 'count': 28015, 'subFacets': []},\n",
              "    {'value': '193113842', 'count': 27896, 'subFacets': []},\n",
              "    {'value': '130015506', 'count': 27818, 'subFacets': []},\n",
              "    {'value': '197517220', 'count': 23637, 'subFacets': []},\n",
              "    {'value': '18008901303738', 'count': 20368, 'subFacets': []},\n",
              "    {'value': '200721741F', 'count': 20341, 'subFacets': []},\n",
              "    {'value': '199111014', 'count': 20160, 'subFacets': []},\n",
              "    {'value': '197517170', 'count': 19944, 'subFacets': []},\n",
              "    {'value': '194409843', 'count': 19905, 'subFacets': []},\n",
              "    {'value': '197517212', 'count': 19757, 'subFacets': []}]}]}"
            ]
          },
          "metadata": {},
          "execution_count": 136
        }
      ],
      "source": [
        "json_pl"
      ]
    },
    {
      "cell_type": "code",
      "source": [
        "type(json_pl)"
      ],
      "metadata": {
        "colab": {
          "base_uri": "https://localhost:8080/"
        },
        "id": "JzbR8pnmzQmz",
        "outputId": "c09ce738-3b8f-4638-8bc8-6bd91b665677"
      },
      "execution_count": 137,
      "outputs": [
        {
          "output_type": "execute_result",
          "data": {
            "text/plain": [
              "dict"
            ]
          },
          "metadata": {},
          "execution_count": 137
        }
      ]
    },
    {
      "cell_type": "code",
      "source": [
        "keys_json_pl = json_pl.keys()\n",
        "\n",
        "print(keys_json_pl)"
      ],
      "metadata": {
        "colab": {
          "base_uri": "https://localhost:8080/"
        },
        "id": "LuUlH4P02KMm",
        "outputId": "a9933f75-574a-418a-8ef6-fffde3dfd0bc"
      },
      "execution_count": 138,
      "outputs": [
        {
          "output_type": "stream",
          "name": "stdout",
          "text": [
            "dict_keys(['request', 'total', 'results', 'facets'])\n"
          ]
        }
      ]
    },
    {
      "cell_type": "code",
      "source": [
        "resultskey = json_pl['results']\n",
        "resultskey"
      ],
      "metadata": {
        "colab": {
          "base_uri": "https://localhost:8080/"
        },
        "id": "_qkbBXUh2xhT",
        "outputId": "bd087ec5-fd6a-4408-d610-85b4ce9ea80d"
      },
      "execution_count": 139,
      "outputs": [
        {
          "output_type": "execute_result",
          "data": {
            "text/plain": [
              "[{'value': {'id': '55299654',\n",
              "   'productionType': 'patent',\n",
              "   'title': {'default': '',\n",
              "    'en': 'SELF-CONTAINED ELECTRICAL DEVICE WITH DELAYED CONTROL',\n",
              "    'fr': 'DISPOSITIF ELECTRIQUE AUTONOME A CONTROLE DIFFERE'},\n",
              "   'authors': [{'fullName': 'De Renty Kilien',\n",
              "     'rolePatent': [{'role': 'inv', 'description': 'inv'}],\n",
              "     'typeParticipant': 'pp',\n",
              "     'country': 'FR'},\n",
              "    {'fullName': 'Upowa',\n",
              "     'rolePatent': [{'role': 'dep', 'description': 'dep'}],\n",
              "     'typeParticipant': 'pm',\n",
              "     'country': 'FR',\n",
              "     'affiliations': [{'structure': '807493259'}]},\n",
              "    {'fullName': 'Viaut Jean-Pierre',\n",
              "     'rolePatent': [{'role': 'inv', 'description': 'inv'}],\n",
              "     'typeParticipant': 'pp',\n",
              "     'country': 'FR'}],\n",
              "   'isOa': False,\n",
              "   'publicationDate': 1493942400000,\n",
              "   'summary': {'default': '',\n",
              "    'en': 'The invention relates mainly to a self-contained electrical device (1) likely to be installed in a geographical area that is not covered by a telecommunications network (RT), said device (1) including a communication interface (8b) intended for communicating with an external terminal (20), said communication interface (8b) being suitable for transmitting operating information stored in a database (5) to the external terminal (20), and for receiving updated operating information (5a) and/or information for conditional activation of the device (1) from the external terminal (20), said information being sent in a delayed manner by a remote server via a telecommunications network.',\n",
              "    'fr': \"L'invention se rapport principalement à un dispositif électrique (1) autonome susceptible d'être installé dans une zone géographique non couverte par un réseau de télécommunication (RT), ledit dispositif (1) comprenant une interface de communication (8b) destinée à communiquer avec un terminal externe (20), ladite interface de communication (8b) étant adaptée pour transmettre au terminal externe (20) des informations de fonctionnement stockées dans une base de données (5), et recevoir du terminal externe (20) une mise à jour d'informations de fonctionnement (5a) et/ou d'activation conditionnelle du dispositif (1), ces informations étant communiquées de manière différée par un serveur à distance via un réseau de télécommunication.\"},\n",
              "   'submissionDate': 1446508800000}}]"
            ]
          },
          "metadata": {},
          "execution_count": 139
        }
      ]
    },
    {
      "cell_type": "code",
      "source": [
        "type(resultskey)\n",
        "print(len(resultskey))"
      ],
      "metadata": {
        "colab": {
          "base_uri": "https://localhost:8080/"
        },
        "id": "KaaIR4pR3C36",
        "outputId": "8eb3481d-9304-4cd3-f3c1-37d3695644c0"
      },
      "execution_count": 140,
      "outputs": [
        {
          "output_type": "stream",
          "name": "stdout",
          "text": [
            "1\n"
          ]
        }
      ]
    },
    {
      "cell_type": "code",
      "source": [
        "# Extract the 'value' key from the first item in the list\n",
        "result1 = resultskey[0]['value']\n",
        "\n",
        "# Create a new dictionary with selected key-value pairs\n",
        "my_dict = result1\n",
        "\n",
        "print(my_dict)\n",
        "\n",
        "keys_my_dict = my_dict.keys()\n",
        "\n",
        "print(keys_my_dict)"
      ],
      "metadata": {
        "colab": {
          "base_uri": "https://localhost:8080/"
        },
        "id": "zW4aR35H4ht1",
        "outputId": "d9dbab4f-3abd-436f-d589-ae8eab1941ce"
      },
      "execution_count": 141,
      "outputs": [
        {
          "output_type": "stream",
          "name": "stdout",
          "text": [
            "{'id': '55299654', 'productionType': 'patent', 'title': {'default': '', 'en': 'SELF-CONTAINED ELECTRICAL DEVICE WITH DELAYED CONTROL', 'fr': 'DISPOSITIF ELECTRIQUE AUTONOME A CONTROLE DIFFERE'}, 'authors': [{'fullName': 'De Renty Kilien', 'rolePatent': [{'role': 'inv', 'description': 'inv'}], 'typeParticipant': 'pp', 'country': 'FR'}, {'fullName': 'Upowa', 'rolePatent': [{'role': 'dep', 'description': 'dep'}], 'typeParticipant': 'pm', 'country': 'FR', 'affiliations': [{'structure': '807493259'}]}, {'fullName': 'Viaut Jean-Pierre', 'rolePatent': [{'role': 'inv', 'description': 'inv'}], 'typeParticipant': 'pp', 'country': 'FR'}], 'isOa': False, 'publicationDate': 1493942400000, 'summary': {'default': '', 'en': 'The invention relates mainly to a self-contained electrical device (1) likely to be installed in a geographical area that is not covered by a telecommunications network (RT), said device (1) including a communication interface (8b) intended for communicating with an external terminal (20), said communication interface (8b) being suitable for transmitting operating information stored in a database (5) to the external terminal (20), and for receiving updated operating information (5a) and/or information for conditional activation of the device (1) from the external terminal (20), said information being sent in a delayed manner by a remote server via a telecommunications network.', 'fr': \"L'invention se rapport principalement à un dispositif électrique (1) autonome susceptible d'être installé dans une zone géographique non couverte par un réseau de télécommunication (RT), ledit dispositif (1) comprenant une interface de communication (8b) destinée à communiquer avec un terminal externe (20), ladite interface de communication (8b) étant adaptée pour transmettre au terminal externe (20) des informations de fonctionnement stockées dans une base de données (5), et recevoir du terminal externe (20) une mise à jour d'informations de fonctionnement (5a) et/ou d'activation conditionnelle du dispositif (1), ces informations étant communiquées de manière différée par un serveur à distance via un réseau de télécommunication.\"}, 'submissionDate': 1446508800000}\n",
            "dict_keys(['id', 'productionType', 'title', 'authors', 'isOa', 'publicationDate', 'summary', 'submissionDate'])\n"
          ]
        }
      ]
    },
    {
      "cell_type": "code",
      "source": [
        "type(my_dict)"
      ],
      "metadata": {
        "colab": {
          "base_uri": "https://localhost:8080/"
        },
        "id": "eqi6fCBK6qal",
        "outputId": "80818d82-32d5-4f58-ad16-c422dbef2895"
      },
      "execution_count": 142,
      "outputs": [
        {
          "output_type": "execute_result",
          "data": {
            "text/plain": [
              "dict"
            ]
          },
          "metadata": {},
          "execution_count": 142
        }
      ]
    },
    {
      "cell_type": "code",
      "source": [
        "idfinal = my_dict['id']\n",
        "productionTypefinal = my_dict['productionType']\n",
        "english_title = my_dict['title']['en']\n",
        "french_title = my_dict['title']['fr']\n",
        "authors = my_dict['authors']\n",
        "\n",
        "\n",
        "\n"
      ],
      "metadata": {
        "id": "7qywKZRd6Oz0"
      },
      "execution_count": 158,
      "outputs": []
    },
    {
      "cell_type": "code",
      "source": [
        "def extract_names(data):\n",
        "    names = []\n",
        "    for item in data:\n",
        "        if \"fullName\" in item:\n",
        "            names.append(item[\"fullName\"])\n",
        "    return names"
      ],
      "metadata": {
        "id": "ak_Jri6sAnDR"
      },
      "execution_count": 159,
      "outputs": []
    },
    {
      "cell_type": "code",
      "source": [
        "authors = extract_names(authors)\n",
        "print(authors) "
      ],
      "metadata": {
        "colab": {
          "base_uri": "https://localhost:8080/"
        },
        "id": "3PWOD7NWBMWt",
        "outputId": "89d86b5f-8340-4191-eee3-bcf89190a90f"
      },
      "execution_count": 160,
      "outputs": [
        {
          "output_type": "stream",
          "name": "stdout",
          "text": [
            "['De Renty Kilien', 'Upowa', 'Viaut Jean-Pierre']\n"
          ]
        }
      ]
    },
    {
      "cell_type": "code",
      "source": [
        "#import time\n",
        "#unix_timestamp = my_dict['publicationDate']\n",
        "#publication_date = time.ctime(unix_timestamp)\n",
        "\n",
        "\n",
        "#publication_date"
      ],
      "metadata": {
        "colab": {
          "base_uri": "https://localhost:8080/",
          "height": 35
        },
        "id": "MPAwU1HrCFNF",
        "outputId": "22afed45-3957-474e-8cc0-13b8172c204b"
      },
      "execution_count": 119,
      "outputs": [
        {
          "output_type": "execute_result",
          "data": {
            "text/plain": [
              "'Wed Feb 25 00:00:00 49311'"
            ],
            "application/vnd.google.colaboratory.intrinsic+json": {
              "type": "string"
            }
          },
          "metadata": {},
          "execution_count": 119
        }
      ]
    },
    {
      "cell_type": "code",
      "source": [
        "publication_date = my_dict['publicationDate']\n",
        "summary_english = my_dict['summary']['en']\n",
        "summary_french = my_dict['summary']['fr']\n",
        "submission_date = my_dict['submissionDate']\n",
        "\n"
      ],
      "metadata": {
        "id": "jpSlPyhiHiNJ"
      },
      "execution_count": 161,
      "outputs": []
    },
    {
      "cell_type": "code",
      "source": [
        "df = pd.DataFrame()\n",
        "df[\"Authors\"] = authors\n",
        "df[\"ID\"] = idfinal\n",
        "df[\"Production Type\"] = productionTypefinal\n",
        "df[\"English Title\"] = english_title\n",
        "df[\"French Title\"] = french_title\n",
        "df[\"Publication Date\"] = publication_date\n",
        "df[\"Summary English\"] = summary_english\n",
        "df[\"Summary French\"] = summary_french\n",
        "df[\"Submission Date\"] = submission_date"
      ],
      "metadata": {
        "id": "qlpaj89OKCrX"
      },
      "execution_count": 164,
      "outputs": []
    },
    {
      "cell_type": "code",
      "source": [
        "df"
      ],
      "metadata": {
        "colab": {
          "base_uri": "https://localhost:8080/",
          "height": 568
        },
        "id": "hv25sNQCLmgo",
        "outputId": "26960649-7745-4528-e8c6-990a59b0c28a"
      },
      "execution_count": 165,
      "outputs": [
        {
          "output_type": "execute_result",
          "data": {
            "text/plain": [
              "             Authors        ID Production Type  \\\n",
              "0    De Renty Kilien  55299654          patent   \n",
              "1              Upowa  55299654          patent   \n",
              "2  Viaut Jean-Pierre  55299654          patent   \n",
              "\n",
              "                                       English Title  \\\n",
              "0  SELF-CONTAINED ELECTRICAL DEVICE WITH DELAYED ...   \n",
              "1  SELF-CONTAINED ELECTRICAL DEVICE WITH DELAYED ...   \n",
              "2  SELF-CONTAINED ELECTRICAL DEVICE WITH DELAYED ...   \n",
              "\n",
              "                                        French Title  Publication Date  \\\n",
              "0  DISPOSITIF ELECTRIQUE AUTONOME A CONTROLE DIFFERE     1493942400000   \n",
              "1  DISPOSITIF ELECTRIQUE AUTONOME A CONTROLE DIFFERE     1493942400000   \n",
              "2  DISPOSITIF ELECTRIQUE AUTONOME A CONTROLE DIFFERE     1493942400000   \n",
              "\n",
              "                                     Summary English  \\\n",
              "0  The invention relates mainly to a self-contain...   \n",
              "1  The invention relates mainly to a self-contain...   \n",
              "2  The invention relates mainly to a self-contain...   \n",
              "\n",
              "                                      Summary French  Submission Date  \n",
              "0  L'invention se rapport principalement à un dis...    1446508800000  \n",
              "1  L'invention se rapport principalement à un dis...    1446508800000  \n",
              "2  L'invention se rapport principalement à un dis...    1446508800000  "
            ],
            "text/html": [
              "\n",
              "  <div id=\"df-694e817d-7382-4215-b58d-0edfc7b540a9\">\n",
              "    <div class=\"colab-df-container\">\n",
              "      <div>\n",
              "<style scoped>\n",
              "    .dataframe tbody tr th:only-of-type {\n",
              "        vertical-align: middle;\n",
              "    }\n",
              "\n",
              "    .dataframe tbody tr th {\n",
              "        vertical-align: top;\n",
              "    }\n",
              "\n",
              "    .dataframe thead th {\n",
              "        text-align: right;\n",
              "    }\n",
              "</style>\n",
              "<table border=\"1\" class=\"dataframe\">\n",
              "  <thead>\n",
              "    <tr style=\"text-align: right;\">\n",
              "      <th></th>\n",
              "      <th>Authors</th>\n",
              "      <th>ID</th>\n",
              "      <th>Production Type</th>\n",
              "      <th>English Title</th>\n",
              "      <th>French Title</th>\n",
              "      <th>Publication Date</th>\n",
              "      <th>Summary English</th>\n",
              "      <th>Summary French</th>\n",
              "      <th>Submission Date</th>\n",
              "    </tr>\n",
              "  </thead>\n",
              "  <tbody>\n",
              "    <tr>\n",
              "      <th>0</th>\n",
              "      <td>De Renty Kilien</td>\n",
              "      <td>55299654</td>\n",
              "      <td>patent</td>\n",
              "      <td>SELF-CONTAINED ELECTRICAL DEVICE WITH DELAYED ...</td>\n",
              "      <td>DISPOSITIF ELECTRIQUE AUTONOME A CONTROLE DIFFERE</td>\n",
              "      <td>1493942400000</td>\n",
              "      <td>The invention relates mainly to a self-contain...</td>\n",
              "      <td>L'invention se rapport principalement à un dis...</td>\n",
              "      <td>1446508800000</td>\n",
              "    </tr>\n",
              "    <tr>\n",
              "      <th>1</th>\n",
              "      <td>Upowa</td>\n",
              "      <td>55299654</td>\n",
              "      <td>patent</td>\n",
              "      <td>SELF-CONTAINED ELECTRICAL DEVICE WITH DELAYED ...</td>\n",
              "      <td>DISPOSITIF ELECTRIQUE AUTONOME A CONTROLE DIFFERE</td>\n",
              "      <td>1493942400000</td>\n",
              "      <td>The invention relates mainly to a self-contain...</td>\n",
              "      <td>L'invention se rapport principalement à un dis...</td>\n",
              "      <td>1446508800000</td>\n",
              "    </tr>\n",
              "    <tr>\n",
              "      <th>2</th>\n",
              "      <td>Viaut Jean-Pierre</td>\n",
              "      <td>55299654</td>\n",
              "      <td>patent</td>\n",
              "      <td>SELF-CONTAINED ELECTRICAL DEVICE WITH DELAYED ...</td>\n",
              "      <td>DISPOSITIF ELECTRIQUE AUTONOME A CONTROLE DIFFERE</td>\n",
              "      <td>1493942400000</td>\n",
              "      <td>The invention relates mainly to a self-contain...</td>\n",
              "      <td>L'invention se rapport principalement à un dis...</td>\n",
              "      <td>1446508800000</td>\n",
              "    </tr>\n",
              "  </tbody>\n",
              "</table>\n",
              "</div>\n",
              "      <button class=\"colab-df-convert\" onclick=\"convertToInteractive('df-694e817d-7382-4215-b58d-0edfc7b540a9')\"\n",
              "              title=\"Convert this dataframe to an interactive table.\"\n",
              "              style=\"display:none;\">\n",
              "        \n",
              "  <svg xmlns=\"http://www.w3.org/2000/svg\" height=\"24px\"viewBox=\"0 0 24 24\"\n",
              "       width=\"24px\">\n",
              "    <path d=\"M0 0h24v24H0V0z\" fill=\"none\"/>\n",
              "    <path d=\"M18.56 5.44l.94 2.06.94-2.06 2.06-.94-2.06-.94-.94-2.06-.94 2.06-2.06.94zm-11 1L8.5 8.5l.94-2.06 2.06-.94-2.06-.94L8.5 2.5l-.94 2.06-2.06.94zm10 10l.94 2.06.94-2.06 2.06-.94-2.06-.94-.94-2.06-.94 2.06-2.06.94z\"/><path d=\"M17.41 7.96l-1.37-1.37c-.4-.4-.92-.59-1.43-.59-.52 0-1.04.2-1.43.59L10.3 9.45l-7.72 7.72c-.78.78-.78 2.05 0 2.83L4 21.41c.39.39.9.59 1.41.59.51 0 1.02-.2 1.41-.59l7.78-7.78 2.81-2.81c.8-.78.8-2.07 0-2.86zM5.41 20L4 18.59l7.72-7.72 1.47 1.35L5.41 20z\"/>\n",
              "  </svg>\n",
              "      </button>\n",
              "      \n",
              "  <style>\n",
              "    .colab-df-container {\n",
              "      display:flex;\n",
              "      flex-wrap:wrap;\n",
              "      gap: 12px;\n",
              "    }\n",
              "\n",
              "    .colab-df-convert {\n",
              "      background-color: #E8F0FE;\n",
              "      border: none;\n",
              "      border-radius: 50%;\n",
              "      cursor: pointer;\n",
              "      display: none;\n",
              "      fill: #1967D2;\n",
              "      height: 32px;\n",
              "      padding: 0 0 0 0;\n",
              "      width: 32px;\n",
              "    }\n",
              "\n",
              "    .colab-df-convert:hover {\n",
              "      background-color: #E2EBFA;\n",
              "      box-shadow: 0px 1px 2px rgba(60, 64, 67, 0.3), 0px 1px 3px 1px rgba(60, 64, 67, 0.15);\n",
              "      fill: #174EA6;\n",
              "    }\n",
              "\n",
              "    [theme=dark] .colab-df-convert {\n",
              "      background-color: #3B4455;\n",
              "      fill: #D2E3FC;\n",
              "    }\n",
              "\n",
              "    [theme=dark] .colab-df-convert:hover {\n",
              "      background-color: #434B5C;\n",
              "      box-shadow: 0px 1px 3px 1px rgba(0, 0, 0, 0.15);\n",
              "      filter: drop-shadow(0px 1px 2px rgba(0, 0, 0, 0.3));\n",
              "      fill: #FFFFFF;\n",
              "    }\n",
              "  </style>\n",
              "\n",
              "      <script>\n",
              "        const buttonEl =\n",
              "          document.querySelector('#df-694e817d-7382-4215-b58d-0edfc7b540a9 button.colab-df-convert');\n",
              "        buttonEl.style.display =\n",
              "          google.colab.kernel.accessAllowed ? 'block' : 'none';\n",
              "\n",
              "        async function convertToInteractive(key) {\n",
              "          const element = document.querySelector('#df-694e817d-7382-4215-b58d-0edfc7b540a9');\n",
              "          const dataTable =\n",
              "            await google.colab.kernel.invokeFunction('convertToInteractive',\n",
              "                                                     [key], {});\n",
              "          if (!dataTable) return;\n",
              "\n",
              "          const docLinkHtml = 'Like what you see? Visit the ' +\n",
              "            '<a target=\"_blank\" href=https://colab.research.google.com/notebooks/data_table.ipynb>data table notebook</a>'\n",
              "            + ' to learn more about interactive tables.';\n",
              "          element.innerHTML = '';\n",
              "          dataTable['output_type'] = 'display_data';\n",
              "          await google.colab.output.renderOutput(dataTable, element);\n",
              "          const docLink = document.createElement('div');\n",
              "          docLink.innerHTML = docLinkHtml;\n",
              "          element.appendChild(docLink);\n",
              "        }\n",
              "      </script>\n",
              "    </div>\n",
              "  </div>\n",
              "  "
            ]
          },
          "metadata": {},
          "execution_count": 165
        }
      ]
    },
    {
      "cell_type": "markdown",
      "source": [],
      "metadata": {
        "id": "pReWdig-3CZc"
      }
    },
    {
      "cell_type": "code",
      "execution_count": 15,
      "metadata": {
        "colab": {
          "base_uri": "https://localhost:8080/"
        },
        "id": "S57H-HQsk9uH",
        "outputId": "d8104d93-fc05-47c8-efdf-ec08bf326add"
      },
      "outputs": [
        {
          "output_type": "stream",
          "name": "stdout",
          "text": [
            "total items: 3079381\n"
          ]
        }
      ],
      "source": [
        "print(\"total items:\",json_pl.get('total'))\n",
        "file1 = open(\"output.txt\",'w+', encoding=\"utf-8\")"
      ]
    },
    {
      "cell_type": "code",
      "source": [
        "res = json_pl['results']\n",
        "#id = res['value']\n",
        "#productionType = res['value']['productionType']\n",
        "res\n",
        "print(len(res))"
      ],
      "metadata": {
        "colab": {
          "base_uri": "https://localhost:8080/"
        },
        "id": "mE9Yr7XfrecH",
        "outputId": "5c843427-9613-4daa-ea46-95054cd7e891"
      },
      "execution_count": 62,
      "outputs": [
        {
          "output_type": "stream",
          "name": "stdout",
          "text": [
            "1\n"
          ]
        }
      ]
    },
    {
      "cell_type": "code",
      "source": [
        "type(res)"
      ],
      "metadata": {
        "colab": {
          "base_uri": "https://localhost:8080/"
        },
        "id": "8ezf2uxgyeL3",
        "outputId": "ab9824df-4244-4ea8-ab75-01bbb2910d62"
      },
      "execution_count": 47,
      "outputs": [
        {
          "output_type": "execute_result",
          "data": {
            "text/plain": [
              "list"
            ]
          },
          "metadata": {},
          "execution_count": 47
        }
      ]
    },
    {
      "cell_type": "code",
      "source": [
        "# Creating an empty dictionary to store the transformed data\n",
        "transformed_results = {}\n",
        "\n",
        "# Looping through the items in the results list\n",
        "for result in res:\n",
        "    # Accessing the 'value' key and storing it in a new variable\n",
        "    value = result['value']\n",
        "    # Accessing the 'id' key and storing it in the dictionary\n",
        "    transformed_results['id'] = value['id']\n",
        "    # Accessing the 'productionType' key and storing it in the dictionary\n",
        "    transformed_results['productionType'] = value['productionType']\n",
        "    # Accessing the 'title' key and storing the dictionary of language and title\n",
        "    transformed_results['title'] = value['title']\n",
        "    # Accessing the 'authors' key and storing it in the dictionary\n",
        "    transformed_results['authors'] = value['authors']\n",
        "    # Accessing the 'is"
      ],
      "metadata": {
        "id": "2wcMYltQv2yA"
      },
      "execution_count": 51,
      "outputs": []
    },
    {
      "cell_type": "markdown",
      "source": [],
      "metadata": {
        "id": "crQmH-0lwzWY"
      }
    },
    {
      "cell_type": "code",
      "source": [
        "transformed_results"
      ],
      "metadata": {
        "colab": {
          "base_uri": "https://localhost:8080/"
        },
        "id": "g5Eu_X_Bw0BM",
        "outputId": "590bf139-39d8-495e-d2f2-6873b8af31aa"
      },
      "execution_count": 52,
      "outputs": [
        {
          "output_type": "execute_result",
          "data": {
            "text/plain": [
              "{'id': '55299654',\n",
              " 'productionType': 'patent',\n",
              " 'title': {'default': '',\n",
              "  'en': 'SELF-CONTAINED ELECTRICAL DEVICE WITH DELAYED CONTROL',\n",
              "  'fr': 'DISPOSITIF ELECTRIQUE AUTONOME A CONTROLE DIFFERE'},\n",
              " 'authors': [{'fullName': 'De Renty Kilien',\n",
              "   'rolePatent': [{'role': 'inv', 'description': 'inv'}],\n",
              "   'typeParticipant': 'pp',\n",
              "   'country': 'FR'},\n",
              "  {'fullName': 'Upowa',\n",
              "   'rolePatent': [{'role': 'dep', 'description': 'dep'}],\n",
              "   'typeParticipant': 'pm',\n",
              "   'country': 'FR',\n",
              "   'affiliations': [{'structure': '807493259'}]},\n",
              "  {'fullName': 'Viaut Jean-Pierre',\n",
              "   'rolePatent': [{'role': 'inv', 'description': 'inv'}],\n",
              "   'typeParticipant': 'pp',\n",
              "   'country': 'FR'}]}"
            ]
          },
          "metadata": {},
          "execution_count": 52
        }
      ]
    },
    {
      "cell_type": "code",
      "source": [
        "type(transformed_results)"
      ],
      "metadata": {
        "colab": {
          "base_uri": "https://localhost:8080/"
        },
        "id": "uW0cONrTv84K",
        "outputId": "07fde738-0423-4b67-8382-a50d781d6b8c"
      },
      "execution_count": 27,
      "outputs": [
        {
          "output_type": "execute_result",
          "data": {
            "text/plain": [
              "dict"
            ]
          },
          "metadata": {},
          "execution_count": 27
        }
      ]
    },
    {
      "cell_type": "code",
      "source": [
        "keys = transformed_results.keys()\n",
        "\n",
        "print(keys)"
      ],
      "metadata": {
        "colab": {
          "base_uri": "https://localhost:8080/"
        },
        "id": "ZjO0lDPV1F9c",
        "outputId": "c2d39fa5-04c7-42ca-9dc9-0e7c3ff79527"
      },
      "execution_count": 61,
      "outputs": [
        {
          "output_type": "stream",
          "name": "stdout",
          "text": [
            "dict_keys(['id', 'productionType', 'title', 'authors'])\n"
          ]
        }
      ]
    },
    {
      "cell_type": "code",
      "source": [
        "new = pd.DataFrame.from_dict(transformed_results)"
      ],
      "metadata": {
        "colab": {
          "base_uri": "https://localhost:8080/",
          "height": 312
        },
        "id": "0hZap8Ncwpy8",
        "outputId": "bc05963a-b5f7-46b9-c6cc-92230712956f"
      },
      "execution_count": 28,
      "outputs": [
        {
          "output_type": "error",
          "ename": "ValueError",
          "evalue": "ignored",
          "traceback": [
            "\u001b[0;31m---------------------------------------------------------------------------\u001b[0m",
            "\u001b[0;31mValueError\u001b[0m                                Traceback (most recent call last)",
            "\u001b[0;32m<ipython-input-28-e2022c381de3>\u001b[0m in \u001b[0;36m<module>\u001b[0;34m\u001b[0m\n\u001b[0;32m----> 1\u001b[0;31m \u001b[0mnew\u001b[0m \u001b[0;34m=\u001b[0m \u001b[0mpd\u001b[0m\u001b[0;34m.\u001b[0m\u001b[0mDataFrame\u001b[0m\u001b[0;34m.\u001b[0m\u001b[0mfrom_dict\u001b[0m\u001b[0;34m(\u001b[0m\u001b[0mtransformed_results\u001b[0m\u001b[0;34m)\u001b[0m\u001b[0;34m\u001b[0m\u001b[0;34m\u001b[0m\u001b[0m\n\u001b[0m",
            "\u001b[0;32m/usr/local/lib/python3.8/dist-packages/pandas/core/frame.py\u001b[0m in \u001b[0;36mfrom_dict\u001b[0;34m(cls, data, orient, dtype, columns)\u001b[0m\n\u001b[1;32m   1591\u001b[0m             \u001b[0;32mraise\u001b[0m \u001b[0mValueError\u001b[0m\u001b[0;34m(\u001b[0m\u001b[0;34m\"only recognize index or columns for orient\"\u001b[0m\u001b[0;34m)\u001b[0m\u001b[0;34m\u001b[0m\u001b[0;34m\u001b[0m\u001b[0m\n\u001b[1;32m   1592\u001b[0m \u001b[0;34m\u001b[0m\u001b[0m\n\u001b[0;32m-> 1593\u001b[0;31m         \u001b[0;32mreturn\u001b[0m \u001b[0mcls\u001b[0m\u001b[0;34m(\u001b[0m\u001b[0mdata\u001b[0m\u001b[0;34m,\u001b[0m \u001b[0mindex\u001b[0m\u001b[0;34m=\u001b[0m\u001b[0mindex\u001b[0m\u001b[0;34m,\u001b[0m \u001b[0mcolumns\u001b[0m\u001b[0;34m=\u001b[0m\u001b[0mcolumns\u001b[0m\u001b[0;34m,\u001b[0m \u001b[0mdtype\u001b[0m\u001b[0;34m=\u001b[0m\u001b[0mdtype\u001b[0m\u001b[0;34m)\u001b[0m\u001b[0;34m\u001b[0m\u001b[0;34m\u001b[0m\u001b[0m\n\u001b[0m\u001b[1;32m   1594\u001b[0m \u001b[0;34m\u001b[0m\u001b[0m\n\u001b[1;32m   1595\u001b[0m     def to_numpy(\n",
            "\u001b[0;32m/usr/local/lib/python3.8/dist-packages/pandas/core/frame.py\u001b[0m in \u001b[0;36m__init__\u001b[0;34m(self, data, index, columns, dtype, copy)\u001b[0m\n\u001b[1;32m    612\u001b[0m         \u001b[0;32melif\u001b[0m \u001b[0misinstance\u001b[0m\u001b[0;34m(\u001b[0m\u001b[0mdata\u001b[0m\u001b[0;34m,\u001b[0m \u001b[0mdict\u001b[0m\u001b[0;34m)\u001b[0m\u001b[0;34m:\u001b[0m\u001b[0;34m\u001b[0m\u001b[0;34m\u001b[0m\u001b[0m\n\u001b[1;32m    613\u001b[0m             \u001b[0;31m# GH#38939 de facto copy defaults to False only in non-dict cases\u001b[0m\u001b[0;34m\u001b[0m\u001b[0;34m\u001b[0m\u001b[0;34m\u001b[0m\u001b[0m\n\u001b[0;32m--> 614\u001b[0;31m             \u001b[0mmgr\u001b[0m \u001b[0;34m=\u001b[0m \u001b[0mdict_to_mgr\u001b[0m\u001b[0;34m(\u001b[0m\u001b[0mdata\u001b[0m\u001b[0;34m,\u001b[0m \u001b[0mindex\u001b[0m\u001b[0;34m,\u001b[0m \u001b[0mcolumns\u001b[0m\u001b[0;34m,\u001b[0m \u001b[0mdtype\u001b[0m\u001b[0;34m=\u001b[0m\u001b[0mdtype\u001b[0m\u001b[0;34m,\u001b[0m \u001b[0mcopy\u001b[0m\u001b[0;34m=\u001b[0m\u001b[0mcopy\u001b[0m\u001b[0;34m,\u001b[0m \u001b[0mtyp\u001b[0m\u001b[0;34m=\u001b[0m\u001b[0mmanager\u001b[0m\u001b[0;34m)\u001b[0m\u001b[0;34m\u001b[0m\u001b[0;34m\u001b[0m\u001b[0m\n\u001b[0m\u001b[1;32m    615\u001b[0m         \u001b[0;32melif\u001b[0m \u001b[0misinstance\u001b[0m\u001b[0;34m(\u001b[0m\u001b[0mdata\u001b[0m\u001b[0;34m,\u001b[0m \u001b[0mma\u001b[0m\u001b[0;34m.\u001b[0m\u001b[0mMaskedArray\u001b[0m\u001b[0;34m)\u001b[0m\u001b[0;34m:\u001b[0m\u001b[0;34m\u001b[0m\u001b[0;34m\u001b[0m\u001b[0m\n\u001b[1;32m    616\u001b[0m             \u001b[0;32mimport\u001b[0m \u001b[0mnumpy\u001b[0m\u001b[0;34m.\u001b[0m\u001b[0mma\u001b[0m\u001b[0;34m.\u001b[0m\u001b[0mmrecords\u001b[0m \u001b[0;32mas\u001b[0m \u001b[0mmrecords\u001b[0m\u001b[0;34m\u001b[0m\u001b[0;34m\u001b[0m\u001b[0m\n",
            "\u001b[0;32m/usr/local/lib/python3.8/dist-packages/pandas/core/internals/construction.py\u001b[0m in \u001b[0;36mdict_to_mgr\u001b[0;34m(data, index, columns, dtype, typ, copy)\u001b[0m\n\u001b[1;32m    462\u001b[0m         \u001b[0;31m# TODO: can we get rid of the dt64tz special case above?\u001b[0m\u001b[0;34m\u001b[0m\u001b[0;34m\u001b[0m\u001b[0;34m\u001b[0m\u001b[0m\n\u001b[1;32m    463\u001b[0m \u001b[0;34m\u001b[0m\u001b[0m\n\u001b[0;32m--> 464\u001b[0;31m     return arrays_to_mgr(\n\u001b[0m\u001b[1;32m    465\u001b[0m         \u001b[0marrays\u001b[0m\u001b[0;34m,\u001b[0m \u001b[0mdata_names\u001b[0m\u001b[0;34m,\u001b[0m \u001b[0mindex\u001b[0m\u001b[0;34m,\u001b[0m \u001b[0mcolumns\u001b[0m\u001b[0;34m,\u001b[0m \u001b[0mdtype\u001b[0m\u001b[0;34m=\u001b[0m\u001b[0mdtype\u001b[0m\u001b[0;34m,\u001b[0m \u001b[0mtyp\u001b[0m\u001b[0;34m=\u001b[0m\u001b[0mtyp\u001b[0m\u001b[0;34m,\u001b[0m \u001b[0mconsolidate\u001b[0m\u001b[0;34m=\u001b[0m\u001b[0mcopy\u001b[0m\u001b[0;34m\u001b[0m\u001b[0;34m\u001b[0m\u001b[0m\n\u001b[1;32m    466\u001b[0m     )\n",
            "\u001b[0;32m/usr/local/lib/python3.8/dist-packages/pandas/core/internals/construction.py\u001b[0m in \u001b[0;36marrays_to_mgr\u001b[0;34m(arrays, arr_names, index, columns, dtype, verify_integrity, typ, consolidate)\u001b[0m\n\u001b[1;32m    117\u001b[0m         \u001b[0;31m# figure out the index, if necessary\u001b[0m\u001b[0;34m\u001b[0m\u001b[0;34m\u001b[0m\u001b[0;34m\u001b[0m\u001b[0m\n\u001b[1;32m    118\u001b[0m         \u001b[0;32mif\u001b[0m \u001b[0mindex\u001b[0m \u001b[0;32mis\u001b[0m \u001b[0;32mNone\u001b[0m\u001b[0;34m:\u001b[0m\u001b[0;34m\u001b[0m\u001b[0;34m\u001b[0m\u001b[0m\n\u001b[0;32m--> 119\u001b[0;31m             \u001b[0mindex\u001b[0m \u001b[0;34m=\u001b[0m \u001b[0m_extract_index\u001b[0m\u001b[0;34m(\u001b[0m\u001b[0marrays\u001b[0m\u001b[0;34m)\u001b[0m\u001b[0;34m\u001b[0m\u001b[0;34m\u001b[0m\u001b[0m\n\u001b[0m\u001b[1;32m    120\u001b[0m         \u001b[0;32melse\u001b[0m\u001b[0;34m:\u001b[0m\u001b[0;34m\u001b[0m\u001b[0;34m\u001b[0m\u001b[0m\n\u001b[1;32m    121\u001b[0m             \u001b[0mindex\u001b[0m \u001b[0;34m=\u001b[0m \u001b[0mensure_index\u001b[0m\u001b[0;34m(\u001b[0m\u001b[0mindex\u001b[0m\u001b[0;34m)\u001b[0m\u001b[0;34m\u001b[0m\u001b[0;34m\u001b[0m\u001b[0m\n",
            "\u001b[0;32m/usr/local/lib/python3.8/dist-packages/pandas/core/internals/construction.py\u001b[0m in \u001b[0;36m_extract_index\u001b[0;34m(data)\u001b[0m\n\u001b[1;32m    636\u001b[0m \u001b[0;34m\u001b[0m\u001b[0m\n\u001b[1;32m    637\u001b[0m             \u001b[0;32mif\u001b[0m \u001b[0mhave_dicts\u001b[0m\u001b[0;34m:\u001b[0m\u001b[0;34m\u001b[0m\u001b[0;34m\u001b[0m\u001b[0m\n\u001b[0;32m--> 638\u001b[0;31m                 raise ValueError(\n\u001b[0m\u001b[1;32m    639\u001b[0m                     \u001b[0;34m\"Mixing dicts with non-Series may lead to ambiguous ordering.\"\u001b[0m\u001b[0;34m\u001b[0m\u001b[0;34m\u001b[0m\u001b[0m\n\u001b[1;32m    640\u001b[0m                 )\n",
            "\u001b[0;31mValueError\u001b[0m: Mixing dicts with non-Series may lead to ambiguous ordering."
          ]
        }
      ]
    },
    {
      "cell_type": "code",
      "execution_count": null,
      "metadata": {
        "id": "wTA6gCLPlBXI"
      },
      "outputs": [],
      "source": [
        "for page_no in range(0,iter):\n",
        "    searchreq = {\"lang\":\"en\",\"searchFields\":search_fields,\"query\":query_string,\"page\":page_no,\"pageSize\":page_size,\"sourceFields\":fields_list}\n",
        "    payload = requests.post(url, json=searchreq)\n",
        "    payload = payload.json()\n",
        "\n",
        "    #for item in range(0,page_size):\n",
        "    pub = payload.get('results')[0].get('value')\n",
        "    if(str(pub.get('productionType'))=='thesis'):\n",
        "        try:\n",
        "            file1.write(str(pub))\n",
        "        except Exception as e:\n",
        "            print(e)\n",
        "    #if iter==100:\n",
        "    #   break\n",
        "file1.close()"
      ]
    }
  ],
  "metadata": {
    "colab": {
      "provenance": [],
      "authorship_tag": "ABX9TyPB1WMciA9Tg1WX6ENkX15Y",
      "include_colab_link": true
    },
    "gpuClass": "standard",
    "kernelspec": {
      "display_name": "Python 3",
      "name": "python3"
    },
    "language_info": {
      "name": "python"
    },
    "accelerator": "GPU"
  },
  "nbformat": 4,
  "nbformat_minor": 0
}